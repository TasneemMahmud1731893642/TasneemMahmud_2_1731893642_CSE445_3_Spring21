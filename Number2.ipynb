{
  "nbformat": 4,
  "nbformat_minor": 0,
  "metadata": {
    "colab": {
      "name": "Number2.ipynb",
      "provenance": []
    },
    "kernelspec": {
      "display_name": "Python 3",
      "language": "python",
      "name": "python3"
    },
    "language_info": {
      "codemirror_mode": {
        "name": "ipython",
        "version": 3
      },
      "file_extension": ".py",
      "mimetype": "text/x-python",
      "name": "python",
      "nbconvert_exporter": "python",
      "pygments_lexer": "ipython3",
      "version": "3.8.5"
    }
  },
  "cells": [
    {
      "cell_type": "code",
      "metadata": {
        "id": "FqaYD6ciqcis"
      },
      "source": [
        "import pandas as pd\n",
        "import numpy as np\n",
        "from sklearn.preprocessing import LabelEncoder, OneHotEncoder\n",
        "from sklearn.model_selection import train_test_split\n",
        "from sklearn.svm import SVC\n",
        "from sklearn.metrics import f1_score, accuracy_score, confusion_matrix"
      ],
      "execution_count": 18,
      "outputs": []
    },
    {
      "cell_type": "code",
      "metadata": {
        "colab": {
          "base_uri": "https://localhost:8080/"
        },
        "id": "Ozh-DSum2HLm",
        "outputId": "c3b0d963-c276-4460-fd58-0b6880ae207b"
      },
      "source": [
        "from google.colab import drive\n",
        "drive.mount('/content/drive')"
      ],
      "execution_count": 2,
      "outputs": [
        {
          "output_type": "stream",
          "text": [
            "Mounted at /content/drive\n"
          ],
          "name": "stdout"
        }
      ]
    },
    {
      "cell_type": "code",
      "metadata": {
        "colab": {
          "base_uri": "https://localhost:8080/",
          "height": 196
        },
        "id": "tLSGG-01qrps",
        "outputId": "43565f46-3b14-4344-ec99-37ba6d3e6f51"
      },
      "source": [
        "df = pd.read_csv('/content/drive/MyDrive/TV Sale/Date and model wise sale.csv')\n",
        "df.head()"
      ],
      "execution_count": 3,
      "outputs": [
        {
          "output_type": "execute_result",
          "data": {
            "text/html": [
              "<div>\n",
              "<style scoped>\n",
              "    .dataframe tbody tr th:only-of-type {\n",
              "        vertical-align: middle;\n",
              "    }\n",
              "\n",
              "    .dataframe tbody tr th {\n",
              "        vertical-align: top;\n",
              "    }\n",
              "\n",
              "    .dataframe thead th {\n",
              "        text-align: right;\n",
              "    }\n",
              "</style>\n",
              "<table border=\"1\" class=\"dataframe\">\n",
              "  <thead>\n",
              "    <tr style=\"text-align: right;\">\n",
              "      <th></th>\n",
              "      <th>Date</th>\n",
              "      <th>Model</th>\n",
              "      <th>Count</th>\n",
              "    </tr>\n",
              "  </thead>\n",
              "  <tbody>\n",
              "    <tr>\n",
              "      <th>0</th>\n",
              "      <td>31-Aug-16</td>\n",
              "      <td>M45</td>\n",
              "      <td>5</td>\n",
              "    </tr>\n",
              "    <tr>\n",
              "      <th>1</th>\n",
              "      <td>31-Aug-16</td>\n",
              "      <td>M121</td>\n",
              "      <td>3</td>\n",
              "    </tr>\n",
              "    <tr>\n",
              "      <th>2</th>\n",
              "      <td>31-Aug-16</td>\n",
              "      <td>M122</td>\n",
              "      <td>4</td>\n",
              "    </tr>\n",
              "    <tr>\n",
              "      <th>3</th>\n",
              "      <td>31-Aug-16</td>\n",
              "      <td>M91</td>\n",
              "      <td>10</td>\n",
              "    </tr>\n",
              "    <tr>\n",
              "      <th>4</th>\n",
              "      <td>31-Aug-16</td>\n",
              "      <td>M66</td>\n",
              "      <td>57</td>\n",
              "    </tr>\n",
              "  </tbody>\n",
              "</table>\n",
              "</div>"
            ],
            "text/plain": [
              "        Date Model  Count\n",
              "0  31-Aug-16   M45      5\n",
              "1  31-Aug-16  M121      3\n",
              "2  31-Aug-16  M122      4\n",
              "3  31-Aug-16   M91     10\n",
              "4  31-Aug-16   M66     57"
            ]
          },
          "metadata": {
            "tags": []
          },
          "execution_count": 3
        }
      ]
    },
    {
      "cell_type": "code",
      "metadata": {
        "colab": {
          "base_uri": "https://localhost:8080/",
          "height": 286
        },
        "id": "RynmzK7OrD7c",
        "outputId": "472711dc-43d5-471f-bc73-e79f66f68f02"
      },
      "source": [
        "df.describe()"
      ],
      "execution_count": 4,
      "outputs": [
        {
          "output_type": "execute_result",
          "data": {
            "text/html": [
              "<div>\n",
              "<style scoped>\n",
              "    .dataframe tbody tr th:only-of-type {\n",
              "        vertical-align: middle;\n",
              "    }\n",
              "\n",
              "    .dataframe tbody tr th {\n",
              "        vertical-align: top;\n",
              "    }\n",
              "\n",
              "    .dataframe thead th {\n",
              "        text-align: right;\n",
              "    }\n",
              "</style>\n",
              "<table border=\"1\" class=\"dataframe\">\n",
              "  <thead>\n",
              "    <tr style=\"text-align: right;\">\n",
              "      <th></th>\n",
              "      <th>Count</th>\n",
              "    </tr>\n",
              "  </thead>\n",
              "  <tbody>\n",
              "    <tr>\n",
              "      <th>count</th>\n",
              "      <td>46116.000000</td>\n",
              "    </tr>\n",
              "    <tr>\n",
              "      <th>mean</th>\n",
              "      <td>96.690108</td>\n",
              "    </tr>\n",
              "    <tr>\n",
              "      <th>std</th>\n",
              "      <td>315.065946</td>\n",
              "    </tr>\n",
              "    <tr>\n",
              "      <th>min</th>\n",
              "      <td>1.000000</td>\n",
              "    </tr>\n",
              "    <tr>\n",
              "      <th>25%</th>\n",
              "      <td>3.000000</td>\n",
              "    </tr>\n",
              "    <tr>\n",
              "      <th>50%</th>\n",
              "      <td>14.000000</td>\n",
              "    </tr>\n",
              "    <tr>\n",
              "      <th>75%</th>\n",
              "      <td>67.000000</td>\n",
              "    </tr>\n",
              "    <tr>\n",
              "      <th>max</th>\n",
              "      <td>6678.000000</td>\n",
              "    </tr>\n",
              "  </tbody>\n",
              "</table>\n",
              "</div>"
            ],
            "text/plain": [
              "              Count\n",
              "count  46116.000000\n",
              "mean      96.690108\n",
              "std      315.065946\n",
              "min        1.000000\n",
              "25%        3.000000\n",
              "50%       14.000000\n",
              "75%       67.000000\n",
              "max     6678.000000"
            ]
          },
          "metadata": {
            "tags": []
          },
          "execution_count": 4
        }
      ]
    },
    {
      "cell_type": "code",
      "metadata": {
        "colab": {
          "base_uri": "https://localhost:8080/"
        },
        "id": "ytxjgXojrBbm",
        "outputId": "d0600a91-1e99-4e2b-a8a6-a826ee5b36d2"
      },
      "source": [
        "df['Date'].unique()"
      ],
      "execution_count": 5,
      "outputs": [
        {
          "output_type": "execute_result",
          "data": {
            "text/plain": [
              "array(['31-Aug-16', '30-Aug-16', '29-Aug-16', '28-Aug-16', '27-Aug-16',\n",
              "       '26-Aug-16', '25-Aug-16', '24-Aug-16', '23-Aug-16', '22-Aug-16',\n",
              "       '21-Aug-16', '20-Aug-16', '19-Aug-16', '18-Aug-16', '17-Aug-16',\n",
              "       '16-Aug-16', '15-Aug-16', '14-Aug-16', '13-Aug-16', '12-Aug-16',\n",
              "       '11-Aug-16', '10-Aug-16', '09-Aug-16', '08-Aug-16', '07-Aug-16',\n",
              "       '06-Aug-16', '05-Aug-16', '04-Aug-16', '03-Aug-16', '02-Aug-16',\n",
              "       '01-Aug-16', '31-Jul-16', '30-Jul-16', '29-Jul-16', '28-Jul-16',\n",
              "       '27-Jul-16', '26-Jul-16', '25-Jul-16', '24-Jul-16', '23-Jul-16',\n",
              "       '22-Jul-16', '21-Jul-16', '20-Jul-16', '19-Jul-16', '18-Jul-16',\n",
              "       '17-Jul-16', '16-Jul-16', '15-Jul-16', '14-Jul-16', '13-Jul-16',\n",
              "       '12-Jul-16', '11-Jul-16', '10-Jul-16', '09-Jul-16', '08-Jul-16',\n",
              "       '07-Jul-16', '06-Jul-16', '05-Jul-16', '04-Jul-16', '03-Jul-16',\n",
              "       '02-Jul-16', '01-Jul-16', '30-Jun-16', '29-Jun-16', '28-Jun-16',\n",
              "       '27-Jun-16', '26-Jun-16', '25-Jun-16', '24-Jun-16', '23-Jun-16',\n",
              "       '22-Jun-16', '21-Jun-16', '20-Jun-16', '19-Jun-16', '18-Jun-16',\n",
              "       '17-Jun-16', '16-Jun-16', '15-Jun-16', '14-Jun-16', '13-Jun-16',\n",
              "       '12-Jun-16', '11-Jun-16', '10-Jun-16', '09-Jun-16', '08-Jun-16',\n",
              "       '07-Jun-16', '06-Jun-16', '05-Jun-16', '04-Jun-16', '03-Jun-16',\n",
              "       '02-Jun-16', '01-Jun-16', '31-May-16', '30-May-16', '29-May-16',\n",
              "       '28-May-16', '27-May-16', '26-May-16', '25-May-16', '24-May-16',\n",
              "       '23-May-16', '22-May-16', '21-May-16', '20-May-16', '19-May-16',\n",
              "       '18-May-16', '17-May-16', '16-May-16', '15-May-16', '14-May-16',\n",
              "       '13-May-16', '12-May-16', '11-May-16', '10-May-16', '09-May-16',\n",
              "       '08-May-16', '07-May-16', '06-May-16', '05-May-16', '04-May-16',\n",
              "       '03-May-16', '02-May-16', '01-May-16', '30-Apr-16', '29-Apr-16',\n",
              "       '28-Apr-16', '27-Apr-16', '26-Apr-16', '25-Apr-16', '24-Apr-16',\n",
              "       '23-Apr-16', '22-Apr-16', '21-Apr-16', '20-Apr-16', '19-Apr-16',\n",
              "       '18-Apr-16', '17-Apr-16', '16-Apr-16', '15-Apr-16', '14-Apr-16',\n",
              "       '13-Apr-16', '12-Apr-16', '11-Apr-16', '10-Apr-16', '09-Apr-16',\n",
              "       '08-Apr-16', '07-Apr-16', '06-Apr-16', '05-Apr-16', '04-Apr-16',\n",
              "       '03-Apr-16', '02-Apr-16', '01-Apr-16', '31-Mar-16', '30-Mar-16',\n",
              "       '29-Mar-16', '28-Mar-16', '27-Mar-16', '26-Mar-16', '25-Mar-16',\n",
              "       '24-Mar-16', '23-Mar-16', '22-Mar-16', '21-Mar-16', '20-Mar-16',\n",
              "       '19-Mar-16', '18-Mar-16', '17-Mar-16', '16-Mar-16', '15-Mar-16',\n",
              "       '14-Mar-16', '13-Mar-16', '12-Mar-16', '11-Mar-16', '10-Mar-16',\n",
              "       '09-Mar-16', '08-Mar-16', '07-Mar-16', '06-Mar-16', '05-Mar-16',\n",
              "       '04-Mar-16', '03-Mar-16', '02-Mar-16', '01-Mar-16', '29-Feb-16',\n",
              "       '28-Feb-16', '27-Feb-16', '26-Feb-16', '25-Feb-16', '24-Feb-16',\n",
              "       '23-Feb-16', '22-Feb-16', '21-Feb-16', '20-Feb-16', '19-Feb-16',\n",
              "       '18-Feb-16', '17-Feb-16', '16-Feb-16', '15-Feb-16', '14-Feb-16',\n",
              "       '13-Feb-16', '12-Feb-16', '11-Feb-16', '10-Feb-16', '09-Feb-16',\n",
              "       '08-Feb-16', '07-Feb-16', '06-Feb-16', '05-Feb-16', '04-Feb-16',\n",
              "       '03-Feb-16', '02-Feb-16', '01-Feb-16', '31-Jan-16', '30-Jan-16',\n",
              "       '29-Jan-16', '28-Jan-16', '27-Jan-16', '26-Jan-16', '25-Jan-16',\n",
              "       '24-Jan-16', '23-Jan-16', '22-Jan-16', '21-Jan-16', '20-Jan-16',\n",
              "       '19-Jan-16', '18-Jan-16', '17-Jan-16', '16-Jan-16', '15-Jan-16',\n",
              "       '14-Jan-16', '13-Jan-16', '12-Jan-16', '11-Jan-16', '10-Jan-16',\n",
              "       '09-Jan-16', '08-Jan-16', '07-Jan-16', '06-Jan-16', '05-Jan-16',\n",
              "       '04-Jan-16', '03-Jan-16', '02-Jan-16', '01-Jan-16', '31-Dec-15',\n",
              "       '30-Dec-15', '29-Dec-15', '28-Dec-15', '27-Dec-15', '26-Dec-15',\n",
              "       '25-Dec-15', '24-Dec-15', '23-Dec-15', '22-Dec-15', '21-Dec-15',\n",
              "       '20-Dec-15', '19-Dec-15', '18-Dec-15', '17-Dec-15', '16-Dec-15',\n",
              "       '15-Dec-15', '14-Dec-15', '13-Dec-15', '12-Dec-15', '11-Dec-15',\n",
              "       '10-Dec-15', '09-Dec-15', '08-Dec-15', '07-Dec-15', '06-Dec-15',\n",
              "       '05-Dec-15', '04-Dec-15', '03-Dec-15', '02-Dec-15', '01-Dec-15',\n",
              "       '30-Nov-15', '29-Nov-15', '28-Nov-15', '27-Nov-15', '26-Nov-15',\n",
              "       '25-Nov-15', '24-Nov-15', '23-Nov-15', '22-Nov-15', '21-Nov-15',\n",
              "       '20-Nov-15', '19-Nov-15', '18-Nov-15', '17-Nov-15', '16-Nov-15',\n",
              "       '15-Nov-15', '14-Nov-15', '13-Nov-15', '12-Nov-15', '11-Nov-15',\n",
              "       '10-Nov-15', '09-Nov-15', '08-Nov-15', '07-Nov-15', '06-Nov-15',\n",
              "       '05-Nov-15', '04-Nov-15', '03-Nov-15', '02-Nov-15', '01-Nov-15',\n",
              "       '31-Oct-15', '30-Oct-15', '29-Oct-15', '28-Oct-15', '27-Oct-15',\n",
              "       '26-Oct-15', '25-Oct-15', '24-Oct-15', '23-Oct-15', '22-Oct-15',\n",
              "       '21-Oct-15', '20-Oct-15', '19-Oct-15', '18-Oct-15', '17-Oct-15',\n",
              "       '16-Oct-15', '15-Oct-15', '14-Oct-15', '13-Oct-15', '12-Oct-15',\n",
              "       '11-Oct-15', '10-Oct-15', '09-Oct-15', '08-Oct-15', '07-Oct-15',\n",
              "       '06-Oct-15', '05-Oct-15', '04-Oct-15', '03-Oct-15', '02-Oct-15',\n",
              "       '01-Oct-15', '30-Sep-15', '29-Sep-15', '28-Sep-15', '27-Sep-15',\n",
              "       '26-Sep-15', '25-Sep-15', '24-Sep-15', '23-Sep-15', '22-Sep-15',\n",
              "       '21-Sep-15', '20-Sep-15', '19-Sep-15', '18-Sep-15', '17-Sep-15',\n",
              "       '16-Sep-15', '15-Sep-15', '14-Sep-15', '13-Sep-15', '12-Sep-15',\n",
              "       '11-Sep-15', '10-Sep-15', '09-Sep-15', '08-Sep-15', '07-Sep-15',\n",
              "       '06-Sep-15', '05-Sep-15', '04-Sep-15', '03-Sep-15', '02-Sep-15',\n",
              "       '01-Sep-15', '31-Aug-15', '30-Aug-15', '29-Aug-15', '28-Aug-15',\n",
              "       '27-Aug-15', '26-Aug-15', '25-Aug-15', '24-Aug-15', '23-Aug-15',\n",
              "       '22-Aug-15', '21-Aug-15', '20-Aug-15', '19-Aug-15', '18-Aug-15',\n",
              "       '17-Aug-15', '16-Aug-15', '15-Aug-15', '14-Aug-15', '13-Aug-15',\n",
              "       '12-Aug-15', '11-Aug-15', '10-Aug-15', '09-Aug-15', '08-Aug-15',\n",
              "       '07-Aug-15', '06-Aug-15', '05-Aug-15', '04-Aug-15', '03-Aug-15',\n",
              "       '02-Aug-15', '01-Aug-15', '31-Jul-15', '30-Jul-15', '29-Jul-15',\n",
              "       '28-Jul-15', '27-Jul-15', '26-Jul-15', '25-Jul-15', '24-Jul-15',\n",
              "       '23-Jul-15', '22-Jul-15', '21-Jul-15', '20-Jul-15', '19-Jul-15',\n",
              "       '18-Jul-15', '17-Jul-15', '16-Jul-15', '15-Jul-15', '14-Jul-15',\n",
              "       '13-Jul-15', '12-Jul-15', '11-Jul-15', '10-Jul-15', '09-Jul-15',\n",
              "       '08-Jul-15', '07-Jul-15', '06-Jul-15', '05-Jul-15', '04-Jul-15',\n",
              "       '03-Jul-15', '02-Jul-15', '01-Jul-15', '30-Jun-15', '29-Jun-15',\n",
              "       '28-Jun-15', '27-Jun-15', '26-Jun-15', '25-Jun-15', '24-Jun-15',\n",
              "       '23-Jun-15', '22-Jun-15', '21-Jun-15', '20-Jun-15', '19-Jun-15',\n",
              "       '18-Jun-15', '17-Jun-15', '16-Jun-15', '15-Jun-15', '14-Jun-15',\n",
              "       '13-Jun-15', '12-Jun-15', '11-Jun-15', '10-Jun-15', '09-Jun-15',\n",
              "       '08-Jun-15', '07-Jun-15', '06-Jun-15', '05-Jun-15', '04-Jun-15',\n",
              "       '03-Jun-15', '02-Jun-15', '01-Jun-15', '31-May-15', '30-May-15',\n",
              "       '29-May-15', '28-May-15', '27-May-15', '26-May-15', '25-May-15',\n",
              "       '24-May-15', '23-May-15', '22-May-15', '21-May-15', '20-May-15',\n",
              "       '19-May-15', '18-May-15', '17-May-15', '16-May-15', '15-May-15',\n",
              "       '14-May-15', '13-May-15', '12-May-15', '11-May-15', '10-May-15',\n",
              "       '09-May-15', '08-May-15', '07-May-15', '06-May-15', '05-May-15',\n",
              "       '04-May-15', '03-May-15', '02-May-15', '01-May-15', '30-Apr-15',\n",
              "       '29-Apr-15', '28-Apr-15', '27-Apr-15', '26-Apr-15', '25-Apr-15',\n",
              "       '24-Apr-15', '23-Apr-15', '22-Apr-15', '21-Apr-15', '20-Apr-15',\n",
              "       '19-Apr-15', '18-Apr-15', '17-Apr-15', '16-Apr-15', '15-Apr-15',\n",
              "       '14-Apr-15', '13-Apr-15', '12-Apr-15', '11-Apr-15', '10-Apr-15',\n",
              "       '09-Apr-15', '08-Apr-15', '07-Apr-15', '06-Apr-15', '05-Apr-15',\n",
              "       '04-Apr-15', '03-Apr-15', '02-Apr-15', '01-Apr-15', '31-Mar-15',\n",
              "       '30-Mar-15', '29-Mar-15', '28-Mar-15', '27-Mar-15', '26-Mar-15',\n",
              "       '25-Mar-15', '24-Mar-15', '23-Mar-15', '22-Mar-15', '21-Mar-15',\n",
              "       '20-Mar-15', '19-Mar-15', '18-Mar-15', '17-Mar-15', '16-Mar-15',\n",
              "       '15-Mar-15', '14-Mar-15', '13-Mar-15', '12-Mar-15', '11-Mar-15',\n",
              "       '10-Mar-15', '09-Mar-15', '08-Mar-15', '07-Mar-15', '06-Mar-15',\n",
              "       '05-Mar-15', '04-Mar-15', '03-Mar-15', '02-Mar-15', '01-Mar-15',\n",
              "       '28-Feb-15', '27-Feb-15', '26-Feb-15', '25-Feb-15', '24-Feb-15',\n",
              "       '23-Feb-15', '22-Feb-15', '21-Feb-15', '20-Feb-15', '19-Feb-15',\n",
              "       '18-Feb-15', '17-Feb-15', '16-Feb-15', '15-Feb-15', '14-Feb-15',\n",
              "       '13-Feb-15', '12-Feb-15', '11-Feb-15', '10-Feb-15', '09-Feb-15',\n",
              "       '08-Feb-15', '07-Feb-15', '06-Feb-15', '05-Feb-15', '04-Feb-15',\n",
              "       '03-Feb-15', '02-Feb-15', '01-Feb-15', '31-Jan-15', '30-Jan-15',\n",
              "       '29-Jan-15', '28-Jan-15', '27-Jan-15', '26-Jan-15', '25-Jan-15',\n",
              "       '24-Jan-15', '23-Jan-15', '22-Jan-15', '21-Jan-15', '20-Jan-15',\n",
              "       '19-Jan-15', '18-Jan-15', '17-Jan-15', '16-Jan-15', '15-Jan-15',\n",
              "       '14-Jan-15', '13-Jan-15', '12-Jan-15', '11-Jan-15', '10-Jan-15',\n",
              "       '09-Jan-15', '08-Jan-15', '07-Jan-15', '06-Jan-15', '05-Jan-15',\n",
              "       '04-Jan-15', '03-Jan-15', '02-Jan-15', '01-Jan-15', '31-Dec-14',\n",
              "       '30-Dec-14', '29-Dec-14', '28-Dec-14', '27-Dec-14', '26-Dec-14',\n",
              "       '25-Dec-14', '24-Dec-14', '23-Dec-14', '22-Dec-14', '21-Dec-14',\n",
              "       '20-Dec-14', '19-Dec-14', '18-Dec-14', '17-Dec-14', '16-Dec-14',\n",
              "       '15-Dec-14', '14-Dec-14', '13-Dec-14', '12-Dec-14', '11-Dec-14',\n",
              "       '10-Dec-14', '09-Dec-14', '08-Dec-14', '07-Dec-14', '06-Dec-14',\n",
              "       '05-Dec-14', '04-Dec-14', '03-Dec-14', '02-Dec-14', '01-Dec-14',\n",
              "       '30-Nov-14', '29-Nov-14', '28-Nov-14', '27-Nov-14', '26-Nov-14',\n",
              "       '25-Nov-14', '24-Nov-14', '23-Nov-14', '22-Nov-14', '21-Nov-14',\n",
              "       '20-Nov-14', '19-Nov-14', '18-Nov-14', '17-Nov-14', '16-Nov-14',\n",
              "       '15-Nov-14', '14-Nov-14', '13-Nov-14', '12-Nov-14', '11-Nov-14',\n",
              "       '10-Nov-14', '09-Nov-14', '08-Nov-14', '07-Nov-14', '06-Nov-14',\n",
              "       '05-Nov-14', '04-Nov-14', '03-Nov-14', '02-Nov-14', '01-Nov-14',\n",
              "       '31-Oct-14', '30-Oct-14', '29-Oct-14', '28-Oct-14', '27-Oct-14',\n",
              "       '26-Oct-14', '25-Oct-14', '24-Oct-14', '23-Oct-14', '22-Oct-14',\n",
              "       '21-Oct-14', '20-Oct-14', '19-Oct-14', '18-Oct-14', '17-Oct-14',\n",
              "       '16-Oct-14', '15-Oct-14', '14-Oct-14', '13-Oct-14', '12-Oct-14',\n",
              "       '11-Oct-14', '10-Oct-14', '09-Oct-14', '08-Oct-14', '07-Oct-14',\n",
              "       '06-Oct-14', '05-Oct-14', '04-Oct-14', '03-Oct-14', '02-Oct-14',\n",
              "       '01-Oct-14', '30-Sep-14', '29-Sep-14', '28-Sep-14', '27-Sep-14',\n",
              "       '26-Sep-14', '25-Sep-14', '24-Sep-14', '23-Sep-14', '22-Sep-14',\n",
              "       '21-Sep-14', '20-Sep-14', '19-Sep-14', '18-Sep-14', '17-Sep-14',\n",
              "       '16-Sep-14', '15-Sep-14', '14-Sep-14', '13-Sep-14', '12-Sep-14',\n",
              "       '11-Sep-14', '10-Sep-14', '09-Sep-14', '08-Sep-14', '07-Sep-14',\n",
              "       '06-Sep-14', '05-Sep-14', '04-Sep-14', '03-Sep-14', '02-Sep-14',\n",
              "       '01-Sep-14', '31-Aug-14', '30-Aug-14', '29-Aug-14', '28-Aug-14',\n",
              "       '27-Aug-14', '26-Aug-14', '25-Aug-14', '24-Aug-14', '23-Aug-14',\n",
              "       '22-Aug-14', '21-Aug-14', '20-Aug-14', '19-Aug-14', '18-Aug-14',\n",
              "       '17-Aug-14', '16-Aug-14', '15-Aug-14', '14-Aug-14', '13-Aug-14',\n",
              "       '12-Aug-14', '11-Aug-14', '10-Aug-14', '09-Aug-14', '08-Aug-14',\n",
              "       '07-Aug-14', '06-Aug-14', '05-Aug-14', '04-Aug-14', '03-Aug-14',\n",
              "       '02-Aug-14', '01-Aug-14', '31-Jul-14', '30-Jul-14', '29-Jul-14',\n",
              "       '28-Jul-14', '27-Jul-14', '26-Jul-14', '25-Jul-14', '24-Jul-14',\n",
              "       '23-Jul-14', '22-Jul-14', '21-Jul-14', '20-Jul-14', '19-Jul-14',\n",
              "       '18-Jul-14', '17-Jul-14', '16-Jul-14', '15-Jul-14', '14-Jul-14',\n",
              "       '13-Jul-14', '12-Jul-14', '11-Jul-14', '10-Jul-14', '09-Jul-14',\n",
              "       '08-Jul-14', '07-Jul-14', '06-Jul-14', '05-Jul-14', '04-Jul-14',\n",
              "       '03-Jul-14', '02-Jul-14', '01-Jul-14', '30-Jun-14', '29-Jun-14',\n",
              "       '28-Jun-14', '27-Jun-14', '26-Jun-14', '25-Jun-14', '24-Jun-14',\n",
              "       '23-Jun-14', '22-Jun-14', '21-Jun-14', '20-Jun-14', '19-Jun-14',\n",
              "       '18-Jun-14', '17-Jun-14', '16-Jun-14', '15-Jun-14', '14-Jun-14',\n",
              "       '13-Jun-14', '12-Jun-14', '11-Jun-14', '10-Jun-14', '09-Jun-14',\n",
              "       '08-Jun-14', '07-Jun-14', '06-Jun-14', '05-Jun-14', '04-Jun-14',\n",
              "       '03-Jun-14', '02-Jun-14', '01-Jun-14', '31-May-14', '30-May-14',\n",
              "       '29-May-14', '28-May-14', '27-May-14', '26-May-14', '25-May-14',\n",
              "       '24-May-14', '23-May-14', '22-May-14', '21-May-14', '20-May-14',\n",
              "       '19-May-14', '18-May-14', '17-May-14', '16-May-14', '15-May-14',\n",
              "       '14-May-14', '13-May-14', '12-May-14', '11-May-14', '10-May-14',\n",
              "       '09-May-14', '08-May-14', '07-May-14', '06-May-14', '05-May-14',\n",
              "       '04-May-14', '03-May-14', '02-May-14', '01-May-14', '30-Apr-14',\n",
              "       '29-Apr-14', '28-Apr-14', '27-Apr-14', '26-Apr-14', '25-Apr-14',\n",
              "       '24-Apr-14', '23-Apr-14', '22-Apr-14', '21-Apr-14', '20-Apr-14',\n",
              "       '19-Apr-14', '18-Apr-14', '17-Apr-14', '16-Apr-14', '15-Apr-14',\n",
              "       '14-Apr-14', '13-Apr-14', '12-Apr-14', '11-Apr-14', '10-Apr-14',\n",
              "       '09-Apr-14', '08-Apr-14', '07-Apr-14', '06-Apr-14', '05-Apr-14',\n",
              "       '04-Apr-14', '03-Apr-14', '02-Apr-14', '01-Apr-14', '31-Mar-14',\n",
              "       '30-Mar-14', '29-Mar-14', '28-Mar-14', '27-Mar-14', '26-Mar-14',\n",
              "       '25-Mar-14', '24-Mar-14', '23-Mar-14', '22-Mar-14', '21-Mar-14',\n",
              "       '20-Mar-14', '19-Mar-14', '18-Mar-14', '17-Mar-14', '16-Mar-14',\n",
              "       '15-Mar-14', '14-Mar-14', '13-Mar-14', '12-Mar-14', '11-Mar-14',\n",
              "       '10-Mar-14', '09-Mar-14', '08-Mar-14', '07-Mar-14', '06-Mar-14',\n",
              "       '05-Mar-14', '04-Mar-14', '03-Mar-14', '02-Mar-14', '01-Mar-14',\n",
              "       '28-Feb-14', '27-Feb-14', '26-Feb-14', '25-Feb-14', '24-Feb-14',\n",
              "       '23-Feb-14', '22-Feb-14', '21-Feb-14', '20-Feb-14', '19-Feb-14',\n",
              "       '18-Feb-14', '17-Feb-14', '16-Feb-14', '15-Feb-14', '14-Feb-14',\n",
              "       '13-Feb-14', '12-Feb-14', '11-Feb-14', '10-Feb-14', '09-Feb-14',\n",
              "       '08-Feb-14', '07-Feb-14', '06-Feb-14', '05-Feb-14', '04-Feb-14',\n",
              "       '03-Feb-14', '02-Feb-14', '01-Feb-14', '31-Jan-14', '30-Jan-14',\n",
              "       '29-Jan-14', '28-Jan-14', '27-Jan-14', '26-Jan-14', '25-Jan-14',\n",
              "       '24-Jan-14', '23-Jan-14', '22-Jan-14', '21-Jan-14', '20-Jan-14',\n",
              "       '19-Jan-14', '18-Jan-14', '17-Jan-14', '16-Jan-14', '15-Jan-14',\n",
              "       '14-Jan-14', '13-Jan-14', '12-Jan-14', '11-Jan-14', '10-Jan-14',\n",
              "       '09-Jan-14', '07-Jan-14', '04-Jan-14', '03-Jan-14', '02-Jan-14',\n",
              "       '01-Jan-14'], dtype=object)"
            ]
          },
          "metadata": {
            "tags": []
          },
          "execution_count": 5
        }
      ]
    },
    {
      "cell_type": "code",
      "metadata": {
        "colab": {
          "base_uri": "https://localhost:8080/"
        },
        "id": "vFJkkAPqeIPF",
        "outputId": "184a7512-cd7d-415b-cf41-f376f9816c46"
      },
      "source": [
        "df['Date'].value_counts()"
      ],
      "execution_count": 6,
      "outputs": [
        {
          "output_type": "execute_result",
          "data": {
            "text/plain": [
              "08-Aug-16    99\n",
              "14-Aug-16    95\n",
              "17-Aug-16    94\n",
              "19-Aug-16    94\n",
              "26-Aug-16    94\n",
              "             ..\n",
              "19-Jan-14     2\n",
              "14-Jan-14     2\n",
              "07-Jan-14     2\n",
              "12-Jan-14     1\n",
              "03-Jan-14     1\n",
              "Name: Date, Length: 971, dtype: int64"
            ]
          },
          "metadata": {
            "tags": []
          },
          "execution_count": 6
        }
      ]
    },
    {
      "cell_type": "code",
      "metadata": {
        "colab": {
          "base_uri": "https://localhost:8080/"
        },
        "id": "TFMUOZeZem4j",
        "outputId": "fa27f102-cfae-469b-e859-eef23cb9b25c"
      },
      "source": [
        "cols = df.columns\n",
        "(df[cols] == 0).all()"
      ],
      "execution_count": 7,
      "outputs": [
        {
          "output_type": "execute_result",
          "data": {
            "text/plain": [
              "Date     False\n",
              "Model    False\n",
              "Count    False\n",
              "dtype: bool"
            ]
          },
          "metadata": {
            "tags": []
          },
          "execution_count": 7
        }
      ]
    },
    {
      "cell_type": "code",
      "metadata": {
        "colab": {
          "base_uri": "https://localhost:8080/",
          "height": 196
        },
        "id": "Sf1ccGtSe5bN",
        "outputId": "b39d4f25-2206-49f0-bb70-43ba9bf7c53c"
      },
      "source": [
        "df = df.fillna(0)\n",
        "df.head()"
      ],
      "execution_count": 8,
      "outputs": [
        {
          "output_type": "execute_result",
          "data": {
            "text/html": [
              "<div>\n",
              "<style scoped>\n",
              "    .dataframe tbody tr th:only-of-type {\n",
              "        vertical-align: middle;\n",
              "    }\n",
              "\n",
              "    .dataframe tbody tr th {\n",
              "        vertical-align: top;\n",
              "    }\n",
              "\n",
              "    .dataframe thead th {\n",
              "        text-align: right;\n",
              "    }\n",
              "</style>\n",
              "<table border=\"1\" class=\"dataframe\">\n",
              "  <thead>\n",
              "    <tr style=\"text-align: right;\">\n",
              "      <th></th>\n",
              "      <th>Date</th>\n",
              "      <th>Model</th>\n",
              "      <th>Count</th>\n",
              "    </tr>\n",
              "  </thead>\n",
              "  <tbody>\n",
              "    <tr>\n",
              "      <th>0</th>\n",
              "      <td>31-Aug-16</td>\n",
              "      <td>M45</td>\n",
              "      <td>5</td>\n",
              "    </tr>\n",
              "    <tr>\n",
              "      <th>1</th>\n",
              "      <td>31-Aug-16</td>\n",
              "      <td>M121</td>\n",
              "      <td>3</td>\n",
              "    </tr>\n",
              "    <tr>\n",
              "      <th>2</th>\n",
              "      <td>31-Aug-16</td>\n",
              "      <td>M122</td>\n",
              "      <td>4</td>\n",
              "    </tr>\n",
              "    <tr>\n",
              "      <th>3</th>\n",
              "      <td>31-Aug-16</td>\n",
              "      <td>M91</td>\n",
              "      <td>10</td>\n",
              "    </tr>\n",
              "    <tr>\n",
              "      <th>4</th>\n",
              "      <td>31-Aug-16</td>\n",
              "      <td>M66</td>\n",
              "      <td>57</td>\n",
              "    </tr>\n",
              "  </tbody>\n",
              "</table>\n",
              "</div>"
            ],
            "text/plain": [
              "        Date Model  Count\n",
              "0  31-Aug-16   M45      5\n",
              "1  31-Aug-16  M121      3\n",
              "2  31-Aug-16  M122      4\n",
              "3  31-Aug-16   M91     10\n",
              "4  31-Aug-16   M66     57"
            ]
          },
          "metadata": {
            "tags": []
          },
          "execution_count": 8
        }
      ]
    },
    {
      "cell_type": "code",
      "metadata": {
        "colab": {
          "base_uri": "https://localhost:8080/",
          "height": 196
        },
        "id": "WulXlN6nsCzG",
        "outputId": "62eb57a6-84fb-4593-a3a7-f12509725fb7"
      },
      "source": [
        "df['Date'] = pd.to_datetime(df['Date'])\n",
        "df.head()"
      ],
      "execution_count": 9,
      "outputs": [
        {
          "output_type": "execute_result",
          "data": {
            "text/html": [
              "<div>\n",
              "<style scoped>\n",
              "    .dataframe tbody tr th:only-of-type {\n",
              "        vertical-align: middle;\n",
              "    }\n",
              "\n",
              "    .dataframe tbody tr th {\n",
              "        vertical-align: top;\n",
              "    }\n",
              "\n",
              "    .dataframe thead th {\n",
              "        text-align: right;\n",
              "    }\n",
              "</style>\n",
              "<table border=\"1\" class=\"dataframe\">\n",
              "  <thead>\n",
              "    <tr style=\"text-align: right;\">\n",
              "      <th></th>\n",
              "      <th>Date</th>\n",
              "      <th>Model</th>\n",
              "      <th>Count</th>\n",
              "    </tr>\n",
              "  </thead>\n",
              "  <tbody>\n",
              "    <tr>\n",
              "      <th>0</th>\n",
              "      <td>2016-08-31</td>\n",
              "      <td>M45</td>\n",
              "      <td>5</td>\n",
              "    </tr>\n",
              "    <tr>\n",
              "      <th>1</th>\n",
              "      <td>2016-08-31</td>\n",
              "      <td>M121</td>\n",
              "      <td>3</td>\n",
              "    </tr>\n",
              "    <tr>\n",
              "      <th>2</th>\n",
              "      <td>2016-08-31</td>\n",
              "      <td>M122</td>\n",
              "      <td>4</td>\n",
              "    </tr>\n",
              "    <tr>\n",
              "      <th>3</th>\n",
              "      <td>2016-08-31</td>\n",
              "      <td>M91</td>\n",
              "      <td>10</td>\n",
              "    </tr>\n",
              "    <tr>\n",
              "      <th>4</th>\n",
              "      <td>2016-08-31</td>\n",
              "      <td>M66</td>\n",
              "      <td>57</td>\n",
              "    </tr>\n",
              "  </tbody>\n",
              "</table>\n",
              "</div>"
            ],
            "text/plain": [
              "        Date Model  Count\n",
              "0 2016-08-31   M45      5\n",
              "1 2016-08-31  M121      3\n",
              "2 2016-08-31  M122      4\n",
              "3 2016-08-31   M91     10\n",
              "4 2016-08-31   M66     57"
            ]
          },
          "metadata": {
            "tags": []
          },
          "execution_count": 9
        }
      ]
    },
    {
      "cell_type": "code",
      "metadata": {
        "colab": {
          "base_uri": "https://localhost:8080/",
          "height": 196
        },
        "id": "nkg7Vl-t-t-1",
        "outputId": "f48caff6-ffd9-4d28-a070-e87bed27c637"
      },
      "source": [
        "df = df.drop(range(2000,4000))\n",
        "df.head()"
      ],
      "execution_count": 10,
      "outputs": [
        {
          "output_type": "execute_result",
          "data": {
            "text/html": [
              "<div>\n",
              "<style scoped>\n",
              "    .dataframe tbody tr th:only-of-type {\n",
              "        vertical-align: middle;\n",
              "    }\n",
              "\n",
              "    .dataframe tbody tr th {\n",
              "        vertical-align: top;\n",
              "    }\n",
              "\n",
              "    .dataframe thead th {\n",
              "        text-align: right;\n",
              "    }\n",
              "</style>\n",
              "<table border=\"1\" class=\"dataframe\">\n",
              "  <thead>\n",
              "    <tr style=\"text-align: right;\">\n",
              "      <th></th>\n",
              "      <th>Date</th>\n",
              "      <th>Model</th>\n",
              "      <th>Count</th>\n",
              "    </tr>\n",
              "  </thead>\n",
              "  <tbody>\n",
              "    <tr>\n",
              "      <th>0</th>\n",
              "      <td>2016-08-31</td>\n",
              "      <td>M45</td>\n",
              "      <td>5</td>\n",
              "    </tr>\n",
              "    <tr>\n",
              "      <th>1</th>\n",
              "      <td>2016-08-31</td>\n",
              "      <td>M121</td>\n",
              "      <td>3</td>\n",
              "    </tr>\n",
              "    <tr>\n",
              "      <th>2</th>\n",
              "      <td>2016-08-31</td>\n",
              "      <td>M122</td>\n",
              "      <td>4</td>\n",
              "    </tr>\n",
              "    <tr>\n",
              "      <th>3</th>\n",
              "      <td>2016-08-31</td>\n",
              "      <td>M91</td>\n",
              "      <td>10</td>\n",
              "    </tr>\n",
              "    <tr>\n",
              "      <th>4</th>\n",
              "      <td>2016-08-31</td>\n",
              "      <td>M66</td>\n",
              "      <td>57</td>\n",
              "    </tr>\n",
              "  </tbody>\n",
              "</table>\n",
              "</div>"
            ],
            "text/plain": [
              "        Date Model  Count\n",
              "0 2016-08-31   M45      5\n",
              "1 2016-08-31  M121      3\n",
              "2 2016-08-31  M122      4\n",
              "3 2016-08-31   M91     10\n",
              "4 2016-08-31   M66     57"
            ]
          },
          "metadata": {
            "tags": []
          },
          "execution_count": 10
        }
      ]
    },
    {
      "cell_type": "code",
      "metadata": {
        "colab": {
          "base_uri": "https://localhost:8080/"
        },
        "id": "x5OXxIV1sYCW",
        "outputId": "e55c3f72-be34-446b-9643-4a969e497c30"
      },
      "source": [
        "data = df.iloc[:,1:].values\n",
        "Datea = df['Date'].values\n",
        "print(data)"
      ],
      "execution_count": 11,
      "outputs": [
        {
          "output_type": "stream",
          "text": [
            "[['M45' 5]\n",
            " ['M121' 3]\n",
            " ['M122' 4]\n",
            " ...\n",
            " ['M60' 5]\n",
            " ['M54' 1]\n",
            " ['M58' 1]]\n"
          ],
          "name": "stdout"
        }
      ]
    },
    {
      "cell_type": "code",
      "metadata": {
        "id": "VkjL1mF-On9u"
      },
      "source": [
        "\n",
        "labelencoder_X= LabelEncoder()\n",
        "data[:,1]=labelencoder_X.fit_transform(data[:,1])"
      ],
      "execution_count": 12,
      "outputs": []
    },
    {
      "cell_type": "code",
      "metadata": {
        "colab": {
          "base_uri": "https://localhost:8080/"
        },
        "id": "s4SCGg3jOyj0",
        "outputId": "a70d734a-416f-4297-e083-6b1860fda622"
      },
      "source": [
        "onehotencoder = OneHotEncoder(handle_unknown='ignore')\n",
        "data=onehotencoder.fit_transform(data).toarray()\n",
        "print(data)"
      ],
      "execution_count": 13,
      "outputs": [
        {
          "output_type": "stream",
          "text": [
            "[[0. 0. 0. ... 0. 0. 0.]\n",
            " [0. 0. 0. ... 0. 0. 0.]\n",
            " [0. 0. 0. ... 0. 0. 0.]\n",
            " ...\n",
            " [0. 0. 0. ... 0. 0. 0.]\n",
            " [0. 0. 0. ... 0. 0. 0.]\n",
            " [0. 0. 0. ... 0. 0. 0.]]\n"
          ],
          "name": "stdout"
        }
      ]
    },
    {
      "cell_type": "code",
      "metadata": {
        "id": "6SpHWKHT5xxp"
      },
      "source": [
        ""
      ],
      "execution_count": 13,
      "outputs": []
    },
    {
      "cell_type": "code",
      "metadata": {
        "colab": {
          "base_uri": "https://localhost:8080/"
        },
        "id": "a8KlPBWc1haw",
        "scrolled": true,
        "outputId": "4159685f-5595-4649-de56-d7e6a5e9b7de"
      },
      "source": [
        "x_train, x_test, y_train, y_test = train_test_split(data, Datea, shuffle=True, train_size = 0.75)\n",
        "print(x_train.shape, x_test.shape, y_train.shape, y_test.shape)"
      ],
      "execution_count": 14,
      "outputs": [
        {
          "output_type": "stream",
          "text": [
            "(33087, 1268) (11029, 1268) (33087,) (11029,)\n"
          ],
          "name": "stdout"
        }
      ]
    },
    {
      "cell_type": "code",
      "metadata": {
        "colab": {
          "base_uri": "https://localhost:8080/"
        },
        "id": "ROs89Ipq4w1b",
        "outputId": "11f37cd5-9dce-41f0-9160-2e1488e99281"
      },
      "source": [
        "model = SVC()\n",
        "model.fit(x_train, y_train)"
      ],
      "execution_count": 15,
      "outputs": [
        {
          "output_type": "execute_result",
          "data": {
            "text/plain": [
              "SVC(C=1.0, break_ties=False, cache_size=200, class_weight=None, coef0=0.0,\n",
              "    decision_function_shape='ovr', degree=3, gamma='scale', kernel='rbf',\n",
              "    max_iter=-1, probability=False, random_state=None, shrinking=True,\n",
              "    tol=0.001, verbose=False)"
            ]
          },
          "metadata": {
            "tags": []
          },
          "execution_count": 15
        }
      ]
    },
    {
      "cell_type": "code",
      "metadata": {
        "id": "zD0mA_o2pPkj"
      },
      "source": [
        "preds = model.predict(x_test)"
      ],
      "execution_count": 16,
      "outputs": []
    },
    {
      "cell_type": "code",
      "metadata": {
        "colab": {
          "base_uri": "https://localhost:8080/"
        },
        "id": "jm3z3ZmGBwoG",
        "outputId": "5ae70f43-8f04-4220-e117-deb224692a78"
      },
      "source": [
        "print('F1-score% =', f1_score(y_test, preds, average='macro')*100, '|', 'Accuracy% =', accuracy_score(y_test, preds)*100)"
      ],
      "execution_count": 19,
      "outputs": [
        {
          "output_type": "stream",
          "text": [
            "F1-score% = 0.003635405079718206 | Accuracy% = 0.01813401033638589\n"
          ],
          "name": "stdout"
        }
      ]
    }
  ]
}